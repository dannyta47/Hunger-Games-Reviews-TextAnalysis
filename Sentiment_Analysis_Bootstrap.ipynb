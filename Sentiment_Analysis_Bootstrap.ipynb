{
 "cells": [
  {
   "cell_type": "code",
   "execution_count": 3,
   "id": "8ea0a0bd-e53a-43ca-905c-3c4b3bc9acdc",
   "metadata": {},
   "outputs": [],
   "source": [
    "# Loading Packages\n",
    "import warnings\n",
    "warnings.filterwarnings('ignore',category=DeprecationWarning)\n",
    "\n",
    "# import libraries\n",
    "import numpy as np\n",
    "import pandas as pd\n",
    "import nltk\n",
    "import matplotlib.pyplot as plt\n",
    "import re,random,os\n",
    "import seaborn as sns\n",
    "from nltk.corpus import stopwords\n",
    "import string\n",
    "from pprint import pprint as pprint\n",
    "import random\n",
    "from random import choices\n",
    "\n",
    "# spacy for basic processing, optional, can use nltk as well(lemmatisation etc.)\n",
    "import spacy\n",
    "\n",
    "#gensim for LDA\n",
    "import gensim\n",
    "import gensim.corpora as corpora\n",
    "from gensim.utils import simple_preprocess\n",
    "from gensim.models import CoherenceModel\n",
    "\n",
    "#plotting tools\n",
    "import pyLDAvis\n",
    "import pyLDAvis.gensim #dont skip this\n",
    "import matplotlib.pyplot as plt\n",
    "%matplotlib inline"
   ]
  },
  {
   "cell_type": "code",
   "execution_count": 4,
   "id": "21060db8-1d8f-4089-b9ac-f3051f484348",
   "metadata": {
    "tags": []
   },
   "outputs": [
    {
     "name": "stderr",
     "output_type": "stream",
     "text": [
      "/var/folders/2m/rrfmdhf53vdb6pytyx9q_z280000gn/T/ipykernel_79416/3525326992.py:52: FutureWarning: The behavior of DataFrame concatenation with empty or all-NA entries is deprecated. In a future version, this will no longer exclude empty or all-NA columns when determining the result dtypes. To retain the old behavior, exclude the relevant entries before the concat operation.\n",
      "  df1 = pd.concat([df1, df2])\n"
     ]
    },
    {
     "data": {
      "text/html": [
       "<div>\n",
       "<style scoped>\n",
       "    .dataframe tbody tr th:only-of-type {\n",
       "        vertical-align: middle;\n",
       "    }\n",
       "\n",
       "    .dataframe tbody tr th {\n",
       "        vertical-align: top;\n",
       "    }\n",
       "\n",
       "    .dataframe thead th {\n",
       "        text-align: right;\n",
       "    }\n",
       "</style>\n",
       "<table border=\"1\" class=\"dataframe\">\n",
       "  <thead>\n",
       "    <tr style=\"text-align: right;\">\n",
       "      <th></th>\n",
       "      <th>Valence Difference</th>\n",
       "      <th>Arousal Difference</th>\n",
       "    </tr>\n",
       "  </thead>\n",
       "  <tbody>\n",
       "    <tr>\n",
       "      <th>0</th>\n",
       "      <td>0.043045</td>\n",
       "      <td>-0.017598</td>\n",
       "    </tr>\n",
       "  </tbody>\n",
       "</table>\n",
       "</div>"
      ],
      "text/plain": [
       "   Valence Difference  Arousal Difference\n",
       "0            0.043045           -0.017598"
      ]
     },
     "execution_count": 4,
     "metadata": {},
     "output_type": "execute_result"
    }
   ],
   "source": [
    "# Loading in the movie and book reviews for The Hunger Games\n",
    "\n",
    "reviews_movie = pd.read_csv(\"/Users/easonwarren/Downloads/MSA/Text Analytics/IMDBHungerGamesReviews (1).csv\")\n",
    "\n",
    "# Randomly selecting the same number as the book revies\n",
    "random.seed(1234)\n",
    "random_500 = random.sample(range(len(reviews_movie)), 595)\n",
    "\n",
    "# Grabs the random sample of rows from the Hunger Games Movie Review\n",
    "reviews_movie = reviews_movie.iloc[random_500]\n",
    "\n",
    "reviews_book = pd.read_csv(\"/Users/easonwarren/Downloads/MSA/Text Analytics/Goodreads-HungerGames.csv\")\n",
    "\n",
    "# Randomly sampling with replacement for both sets of reviews\n",
    "bootstrap_random_movie = choices(range(595), k = 595)\n",
    "movie_bootstrap = reviews_movie.iloc[bootstrap_random_movie]\n",
    "\n",
    "bootstrap_random_book = choices(range(595), k = 595)\n",
    "book_bootstrap = reviews_book.iloc[bootstrap_random_book]\n",
    "\n",
    "# tokenize using gensims simple_preprocess\n",
    "def sent_to_words(sentences, deacc=True):  # deacc=True removes punctuations\n",
    "    for sentence in sentences:\n",
    "        yield(simple_preprocess(str(sentence)))\n",
    "        \n",
    "data_book = book_bootstrap['Title'].values.tolist()\n",
    "data_words_book = list(sent_to_words(data_book))\n",
    "\n",
    "data_movie = movie_bootstrap['Review'].values.tolist()\n",
    "data_words_movie = list(sent_to_words(data_movie))\n",
    "\n",
    "from itertools import chain\n",
    "\n",
    "book_reviews_list = list(chain(*data_words_book))\n",
    "\n",
    "movie_reviews_list = list(chain(*data_words_movie))\n",
    "\n",
    "from sentiment_module import sentiment\n",
    "\n",
    "book_sentiment = sentiment.sentiment(book_reviews_list)\n",
    "\n",
    "movie_sentiment = sentiment.sentiment(movie_reviews_list)\n",
    "\n",
    "valence_diff = book_sentiment['valence'] - movie_sentiment['valence']\n",
    "\n",
    "arousal_diff = book_sentiment['arousal'] - movie_sentiment['arousal']\n",
    "\n",
    "df1 = pd.DataFrame(columns = ['Valence Difference', 'Arousal Difference'])\n",
    "\n",
    "df2 = pd.DataFrame({'Valence Difference': [valence_diff], 'Arousal Difference': arousal_diff})\n",
    "\n",
    "df1 = pd.concat([df1, df2])\n",
    "\n",
    "df1"
   ]
  },
  {
   "cell_type": "code",
   "execution_count": 27,
   "id": "7ba6b6a0-61c7-45b7-93f8-bf5954a05486",
   "metadata": {},
   "outputs": [
    {
     "name": "stderr",
     "output_type": "stream",
     "text": [
      "/var/folders/2m/rrfmdhf53vdb6pytyx9q_z280000gn/T/ipykernel_79416/2134962256.py:30: FutureWarning: The behavior of DataFrame concatenation with empty or all-NA entries is deprecated. In a future version, this will no longer exclude empty or all-NA columns when determining the result dtypes. To retain the old behavior, exclude the relevant entries before the concat operation.\n",
      "  df1 = pd.concat([df1, df2])\n"
     ]
    }
   ],
   "source": [
    "df1 = pd.DataFrame(columns = ['Number', 'Valence Difference', 'Arousal Difference'])\n",
    "\n",
    "for i in range(1000):\n",
    "    bootstrap_random_movie = choices(range(595), k = 595)\n",
    "    movie_bootstrap = reviews_movie.iloc[bootstrap_random_movie]\n",
    "\n",
    "    bootstrap_random_book = choices(range(595), k = 595)\n",
    "    book_bootstrap = reviews_book.iloc[bootstrap_random_book]\n",
    "    \n",
    "    data_book = book_bootstrap['Title'].values.tolist()\n",
    "    data_words_book = list(sent_to_words(data_book))\n",
    "\n",
    "    data_movie = movie_bootstrap['Review'].values.tolist()\n",
    "    data_words_movie = list(sent_to_words(data_movie))\n",
    "    \n",
    "    book_reviews_list = list(chain(*data_words_book))\n",
    "\n",
    "    movie_reviews_list = list(chain(*data_words_movie))\n",
    "    \n",
    "    book_sentiment = sentiment.sentiment(book_reviews_list)\n",
    "\n",
    "    movie_sentiment = sentiment.sentiment(movie_reviews_list)\n",
    "    \n",
    "    valence_diff = book_sentiment['valence'] - movie_sentiment['valence']\n",
    "\n",
    "    arousal_diff = book_sentiment['arousal'] - movie_sentiment['arousal']\n",
    "    \n",
    "    df2 = pd.DataFrame({'Number': [i], 'Valence Difference': [valence_diff], 'Arousal Difference': arousal_diff})\n",
    "\n",
    "    df1 = pd.concat([df1, df2])"
   ]
  },
  {
   "cell_type": "code",
   "execution_count": 28,
   "id": "1d318a5f-2791-417d-8fcd-f93af4386cb0",
   "metadata": {},
   "outputs": [
    {
     "data": {
      "text/html": [
       "<div>\n",
       "<style scoped>\n",
       "    .dataframe tbody tr th:only-of-type {\n",
       "        vertical-align: middle;\n",
       "    }\n",
       "\n",
       "    .dataframe tbody tr th {\n",
       "        vertical-align: top;\n",
       "    }\n",
       "\n",
       "    .dataframe thead th {\n",
       "        text-align: right;\n",
       "    }\n",
       "</style>\n",
       "<table border=\"1\" class=\"dataframe\">\n",
       "  <thead>\n",
       "    <tr style=\"text-align: right;\">\n",
       "      <th></th>\n",
       "      <th>Number</th>\n",
       "      <th>Valence Difference</th>\n",
       "      <th>Arousal Difference</th>\n",
       "    </tr>\n",
       "  </thead>\n",
       "  <tbody>\n",
       "    <tr>\n",
       "      <th>0</th>\n",
       "      <td>0</td>\n",
       "      <td>0.017228</td>\n",
       "      <td>-0.021460</td>\n",
       "    </tr>\n",
       "    <tr>\n",
       "      <th>0</th>\n",
       "      <td>1</td>\n",
       "      <td>0.031812</td>\n",
       "      <td>-0.026597</td>\n",
       "    </tr>\n",
       "    <tr>\n",
       "      <th>0</th>\n",
       "      <td>2</td>\n",
       "      <td>0.050672</td>\n",
       "      <td>-0.030978</td>\n",
       "    </tr>\n",
       "    <tr>\n",
       "      <th>0</th>\n",
       "      <td>3</td>\n",
       "      <td>0.037493</td>\n",
       "      <td>-0.035049</td>\n",
       "    </tr>\n",
       "    <tr>\n",
       "      <th>0</th>\n",
       "      <td>4</td>\n",
       "      <td>0.026574</td>\n",
       "      <td>-0.015966</td>\n",
       "    </tr>\n",
       "    <tr>\n",
       "      <th>...</th>\n",
       "      <td>...</td>\n",
       "      <td>...</td>\n",
       "      <td>...</td>\n",
       "    </tr>\n",
       "    <tr>\n",
       "      <th>0</th>\n",
       "      <td>995</td>\n",
       "      <td>0.013497</td>\n",
       "      <td>-0.008986</td>\n",
       "    </tr>\n",
       "    <tr>\n",
       "      <th>0</th>\n",
       "      <td>996</td>\n",
       "      <td>0.008117</td>\n",
       "      <td>0.014334</td>\n",
       "    </tr>\n",
       "    <tr>\n",
       "      <th>0</th>\n",
       "      <td>997</td>\n",
       "      <td>0.029880</td>\n",
       "      <td>-0.021989</td>\n",
       "    </tr>\n",
       "    <tr>\n",
       "      <th>0</th>\n",
       "      <td>998</td>\n",
       "      <td>0.041813</td>\n",
       "      <td>-0.016931</td>\n",
       "    </tr>\n",
       "    <tr>\n",
       "      <th>0</th>\n",
       "      <td>999</td>\n",
       "      <td>0.034472</td>\n",
       "      <td>-0.007405</td>\n",
       "    </tr>\n",
       "  </tbody>\n",
       "</table>\n",
       "<p>1000 rows × 3 columns</p>\n",
       "</div>"
      ],
      "text/plain": [
       "   Number  Valence Difference  Arousal Difference\n",
       "0       0            0.017228           -0.021460\n",
       "0       1            0.031812           -0.026597\n",
       "0       2            0.050672           -0.030978\n",
       "0       3            0.037493           -0.035049\n",
       "0       4            0.026574           -0.015966\n",
       "..    ...                 ...                 ...\n",
       "0     995            0.013497           -0.008986\n",
       "0     996            0.008117            0.014334\n",
       "0     997            0.029880           -0.021989\n",
       "0     998            0.041813           -0.016931\n",
       "0     999            0.034472           -0.007405\n",
       "\n",
       "[1000 rows x 3 columns]"
      ]
     },
     "execution_count": 28,
     "metadata": {},
     "output_type": "execute_result"
    }
   ],
   "source": [
    "df1"
   ]
  },
  {
   "cell_type": "code",
   "execution_count": 29,
   "id": "996a34d2-55e1-44a5-9b36-a9ab600b2fae",
   "metadata": {},
   "outputs": [
    {
     "data": {
      "text/plain": [
       "<Axes: >"
      ]
     },
     "execution_count": 29,
     "metadata": {},
     "output_type": "execute_result"
    },
    {
     "data": {
      "image/png": "[encoded data removed]",
      "text/plain": [
       "<Figure size 640x480 with 1 Axes>"
      ]
     },
     "metadata": {},
     "output_type": "display_data"
    }
   ],
   "source": [
    "df1['Valence Difference'].hist()"
   ]
  },
  {
   "cell_type": "code",
   "execution_count": 30,
   "id": "3103e75e-cc3e-4b34-8f84-ea27c9e59a98",
   "metadata": {},
   "outputs": [
    {
     "data": {
      "text/plain": [
       "<Axes: >"
      ]
     },
     "execution_count": 30,
     "metadata": {},
     "output_type": "execute_result"
    },
    {
     "data": {
      "image/png": "[encoded data removed]",
      "text/plain": [
       "<Figure size 640x480 with 1 Axes>"
      ]
     },
     "metadata": {},
     "output_type": "display_data"
    }
   ],
   "source": [
    "df1['Arousal Difference'].hist()"
   ]
  },
  {
   "cell_type": "code",
   "execution_count": 102,
   "id": "e7d95ec0-54ff-4934-8a5e-0c2da74a018f",
   "metadata": {},
   "outputs": [
    {
     "name": "stdout",
     "output_type": "stream",
     "text": [
      "-0.051625014799043294\n",
      "0.013881427885444149\n"
     ]
    }
   ],
   "source": [
    "print(np.quantile(df1['Arousal Difference'], 0.001))\n",
    "print(np.quantile(df1['Arousal Difference'], 0.999))"
   ]
  },
  {
   "cell_type": "code",
   "execution_count": 32,
   "id": "b1cdbbcf-41fd-4ca3-b87d-5ae243e420c3",
   "metadata": {},
   "outputs": [],
   "source": [
    "df1.to_csv(\"/Users/easonwarren/Downloads/MSA/Text Analytics/sentiment_difference.csv\", encoding = 'utf-7')"
   ]
  }
 ],
 "metadata": {
  "kernelspec": {
   "display_name": "Python 3 (ipykernel)",
   "language": "python",
   "name": "python3"
  },
  "language_info": {
   "codemirror_mode": {
    "name": "ipython",
    "version": 3
   },
   "file_extension": ".py",
   "mimetype": "text/x-python",
   "name": "python",
   "nbconvert_exporter": "python",
   "pygments_lexer": "ipython3",
   "version": "3.10.9"
  }
 },
 "nbformat": 4,
 "nbformat_minor": 5
}
